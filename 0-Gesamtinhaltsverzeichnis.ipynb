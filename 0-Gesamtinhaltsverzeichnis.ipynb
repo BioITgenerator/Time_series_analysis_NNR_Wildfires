{
 "cells": [
  {
   "cell_type": "markdown",
   "metadata": {},
   "source": [
    "# Gesamtinhaltsverzeichnis\n",
    "\n",
    "## 1. Berichte\n",
    "- [Zeitreihen Report (Deutsch)](1-Zeitreihen_Report_DE.ipynb)\n",
    "- [Zeitreihen Report (Englisch)](1-Zeitreihen_Report_EN.ipynb)\n",
    "\n",
    "## 2. Datenbeschaffung & Zeitreihen\n",
    "- [Daten zu Waldbränden in den USA (1992–2015)](2-Datenbeschaffung_Zeitreihen.ipynb)\n",
    "\n",
    "## 3. Waldbrandhäufigkeit & Zeitreihenanalyse\n",
    "- [Tägliche Brandhäufigkeiten visualisieren](3-Waldbrandhäufigkeit_Zeitreihen.ipynb)\n",
    "\n",
    "## 4. Saisonalität\n",
    "- [Monatliche Brandhäufigkeiten nach Jahr](4-Saisonalität.ipynb)\n",
    "\n",
    "## 5. Zeitreihenzerlegung\n",
    "- [Zeitreihenzerlegung für tägliche und monatliche Brandhäufigkeiten](5-Zeitreihenzerlegung.ipynb)\n",
    "- [Log-Transformierte Zeitreihenzerlegung mit STL](5-Zeitreihenzerlegung.ipynb)\n",
    "\n",
    "## 6. Residuenanalyse\n",
    "- [Residuenanalyse mit STL-Zerlegung](6-Residuals.ipynb)\n",
    "\n",
    "## 7. Stationarität der Residuen\n",
    "- [Test der Stationarität unter Verwendung der Residuen der täglichen Daten](7-Stationaritat_der_Residuen.ipynb)\n",
    "- [Test der Stationarität unter Verwendung der Residuen der monatlichen Daten](7-Stationaritat_der_Residuen.ipynb)\n",
    "\n",
    "## 8. Beste ARIMA Modelle\n",
    "- [Tägliche Daten: ARIMA Modelle](8-Beste_ARIMA_Modelle_für_tägliche_Intervall-Zeitreihen.ipynb)\n",
    "- [Monatliche Daten: ARIMA Modelle](9-Beste_ARIMA_Modelle_für_monatliche_Intervall-Zeitreihen.ipynb)\n",
    "\n",
    "## 9. Zeitreihenvariablen\n",
    "- [Geteilte Abbildungen von Variablen](10-Zeitreihen_Variable.ipynb)\n",
    "\n",
    "## 10. Regressionsmodelle\n",
    "- [Regression auf tägliche Daten](11-Regression_Modell_tagliche_data_Zeitreihen.ipynb)\n",
    "- [Regression auf monatliche Daten](12-Regression_Modell_monatliche_data_Zeitreihen.ipynb)\n",
    "\n",
    "## 11. Neuronale Netze\n",
    "- [Tägliche Daten](14-Neuronal_Network_daily_data_Zeitreihen.ipynb)\n",
    "- [Monatliche Daten](15-Neuronal_Network_monthly_data_Zeitreihen.ipynb)\n",
    "## 12. Prognosen\n",
    "- [LSTM Prognose: Monatliche Daten](16-Forecast_Neuronal_Network_monthly_data_Zeitreihen.ipynb)\n"
   ]
  }
 ],
 "metadata": {
  "language_info": {
   "name": "python"
  }
 },
 "nbformat": 4,
 "nbformat_minor": 2
}
