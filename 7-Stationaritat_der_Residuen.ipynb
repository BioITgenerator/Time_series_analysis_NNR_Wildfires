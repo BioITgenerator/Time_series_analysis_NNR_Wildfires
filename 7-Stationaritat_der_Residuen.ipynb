{
 "cells": [
  {
   "cell_type": "markdown",
   "metadata": {},
   "source": [
    "# Inhaltsverzeichnis\n",
    "\n",
    "| Abschnitt | Unterabschnitt |\n",
    "|-----------|----------------|\n",
    "| **[Test der Stationarität unter Verwendung der Residuen der täglichen Daten](#test-der-stationaritaet-unter-verwendung-der-residuen-der-taeglichen-daten)** | |\n",
    "| **[Test der Stationarität unter Verwendung der Residuen der monatlichen Daten](#test-der-stationaritaet-unter-verwendung-der-residuen-der-monatlichen-daten)** | |\n"
   ]
  },
  {
   "cell_type": "markdown",
   "metadata": {},
   "source": [
    "## Test der Stationarität unter Verwendung der Residuen der täglichen Daten\n"
   ]
  },
  {
   "cell_type": "code",
   "execution_count": 1,
   "metadata": {},
   "outputs": [
    {
     "name": "stdout",
     "output_type": "stream",
     "text": [
      "ADF Statistic (Log Fire Counts): -7.615645\n",
      "p-value (Log Fire Counts): 0.000000\n",
      "Critical Values (Log Fire Counts):\n",
      "\t1%: -3.431\n",
      "\t5%: -2.862\n",
      "\t10%: -2.567\n",
      "The fitted values are stationary according to the ADF test.\n",
      "KPSS Statistic (Log Fire Counts): 0.387291\n",
      "p-value (Log Fire Counts): 0.082633\n",
      "Critical Values (Log Fire Counts):\n",
      "\t10%: 0.347\n",
      "\t5%: 0.463\n",
      "\t2.5%: 0.574\n",
      "\t1%: 0.739\n",
      "The log-transformed fire counts are stationary according to the KPSS test.\n"
     ]
    }
   ],
   "source": [
    "import pandas as pd\n",
    "import numpy as np\n",
    "from statsmodels.tsa.stattools import kpss, adfuller\n",
    "\n",
    "# Load the daily data\n",
    "daily_file_path = './Data_Waldbrand_Zeitreihen/daily_fire_counts.csv'\n",
    "daily_data = pd.read_csv(daily_file_path)\n",
    "\n",
    "# Rename columns for clarity and parse dates\n",
    "daily_data.rename(columns={\"DISCOVERY_DATE\": \"Date\", \"Daily Fire Counts\": \"Fire_Count\"}, inplace=True)\n",
    "daily_data['Date'] = pd.to_datetime(daily_data['Date'])\n",
    "daily_data.set_index('Date', inplace=True)\n",
    "\n",
    "# Apply log transformation to the daily fire counts\n",
    "daily_data['Log_Fire_Count'] = daily_data['Fire_Count'].apply(lambda x: np.log1p(x))  # log1p for log(1 + x)\n",
    "\n",
    "# Extract the log-transformed fire counts\n",
    "log_fire_counts = daily_data['Log_Fire_Count']\n",
    "\n",
    "# Perform the Augmented Dickey-Fuller test on the log-transformed fire counts\n",
    "daily_adf_test = adfuller(log_fire_counts)\n",
    "\n",
    "# Output the results for ADF test\n",
    "print('ADF Statistic (Log Fire Counts): %f' % daily_adf_test[0])\n",
    "print('p-value (Log Fire Counts): %f' % daily_adf_test[1])\n",
    "print('Critical Values (Log Fire Counts):')\n",
    "for key, value in daily_adf_test[4].items():\n",
    "    print('\\t%s: %.3f' % (key, value))\n",
    "\n",
    "# Determine stationarity based on ADF test\n",
    "if daily_adf_test[1] < 0.05:\n",
    "    print(\"The fitted values are stationary according to the ADF test.\")\n",
    "else:\n",
    "    print(\"The fitted values are not stationary according to the ADF test.\")\n",
    "\n",
    "# Perform the KPSS test on the log-transformed fire counts\n",
    "daily_kpss_test = kpss(log_fire_counts, regression='c')  # 'c' for constant in the regression\n",
    "\n",
    "# Output the results for KPSS test\n",
    "print('KPSS Statistic (Log Fire Counts): %f' % daily_kpss_test[0])\n",
    "print('p-value (Log Fire Counts): %f' % daily_kpss_test[1])\n",
    "print('Critical Values (Log Fire Counts):')\n",
    "for key, value in daily_kpss_test[3].items():\n",
    "    print('\\t%s: %.3f' % (key, value))\n",
    "\n",
    "# Determine stationarity based on KPSS test\n",
    "if daily_kpss_test[1] < 0.05:\n",
    "    print(\"The log-transformed fire counts are not stationary according to the KPSS test.\")\n",
    "else:\n",
    "    print(\"The log-transformed fire counts are stationary according to the KPSS test.\")\n"
   ]
  },
  {
   "cell_type": "markdown",
   "metadata": {},
   "source": [
    "## Test der Stationarität unter Verwendung der Residuen der monatlichen Daten"
   ]
  },
  {
   "cell_type": "code",
   "execution_count": 2,
   "metadata": {},
   "outputs": [
    {
     "name": "stdout",
     "output_type": "stream",
     "text": [
      "ADF Statistic (Log Fire Counts): -4.203963\n",
      "p-value (Log Fire Counts): 0.000649\n",
      "Critical Values (Log Fire Counts):\n",
      "\t1%: -3.455\n",
      "\t5%: -2.872\n",
      "\t10%: -2.572\n",
      "The monthly log-transformed fire counts are stationary according to the ADF test.\n",
      "KPSS Statistic (Log Fire Counts): 0.163487\n",
      "p-value (Log Fire Counts): 0.100000\n",
      "Critical Values (Log Fire Counts):\n",
      "\t10%: 0.347\n",
      "\t5%: 0.463\n",
      "\t2.5%: 0.574\n",
      "\t1%: 0.739\n",
      "The monthly log-transformed fire counts are stationary according to the KPSS test.\n"
     ]
    },
    {
     "name": "stderr",
     "output_type": "stream",
     "text": [
      "C:\\Users\\fsali\\AppData\\Local\\Temp\\ipykernel_42824\\333695099.py:37: InterpolationWarning: The test statistic is outside of the range of p-values available in the\n",
      "look-up table. The actual p-value is greater than the p-value returned.\n",
      "\n",
      "  monthly_kpss_test = kpss(log_fire_counts, regression='c')  # 'c' for constant in the regression\n"
     ]
    }
   ],
   "source": [
    "import pandas as pd\n",
    "import numpy as np\n",
    "from statsmodels.tsa.stattools import kpss, adfuller\n",
    "\n",
    "# Load the monthly data\n",
    "monthly_file_path = './Data_Waldbrand_Zeitreihen/monthly_fire_counts.csv'\n",
    "monthly_data = pd.read_csv(monthly_file_path)\n",
    "\n",
    "# Rename columns for clarity and parse dates\n",
    "monthly_data.rename(columns={\"DISCOVERY_DATE\": \"Date\", \"Monthly Fire Counts\": \"Fire_Count\"}, inplace=True)\n",
    "monthly_data['Date'] = pd.to_datetime(monthly_data['Date'])\n",
    "monthly_data.set_index('Date', inplace=True)\n",
    "\n",
    "# Apply log transformation to the monthly fire counts\n",
    "monthly_data['Log_Fire_Count'] = monthly_data['Fire_Count'].apply(lambda x: np.log1p(x))  # log1p for log(1 + x)\n",
    "\n",
    "# Extract the log-transformed fire counts\n",
    "log_fire_counts = monthly_data['Log_Fire_Count']\n",
    "\n",
    "# Perform the Augmented Dickey-Fuller test on the log-transformed fire counts\n",
    "monthly_adf_test = adfuller(log_fire_counts)\n",
    "\n",
    "# Output the results for ADF test\n",
    "print('ADF Statistic (Log Fire Counts): %f' % monthly_adf_test[0])\n",
    "print('p-value (Log Fire Counts): %f' % monthly_adf_test[1])\n",
    "print('Critical Values (Log Fire Counts):')\n",
    "for key, value in monthly_adf_test[4].items():\n",
    "    print('\\t%s: %.3f' % (key, value))\n",
    "\n",
    "# Determine stationarity based on ADF test\n",
    "if monthly_adf_test[1] < 0.05:\n",
    "    print(\"The monthly log-transformed fire counts are stationary according to the ADF test.\")\n",
    "else:\n",
    "    print(\"The monthly log-transformed fire counts are not stationary according to the ADF test.\")\n",
    "\n",
    "# Perform the KPSS test on the log-transformed fire counts\n",
    "monthly_kpss_test = kpss(log_fire_counts, regression='c')  # 'c' for constant in the regression\n",
    "\n",
    "# Output the results for KPSS test\n",
    "print('KPSS Statistic (Log Fire Counts): %f' % monthly_kpss_test[0])\n",
    "print('p-value (Log Fire Counts): %f' % monthly_kpss_test[1])\n",
    "print('Critical Values (Log Fire Counts):')\n",
    "for key, value in monthly_kpss_test[3].items():\n",
    "    print('\\t%s: %.3f' % (key, value))\n",
    "\n",
    "# Determine stationarity based on KPSS test\n",
    "if monthly_kpss_test[1] < 0.05:\n",
    "    print(\"The monthly log-transformed fire counts are not stationary according to the KPSS test.\")\n",
    "else:\n",
    "    print(\"The monthly log-transformed fire counts are stationary according to the KPSS test.\")\n"
   ]
  }
 ],
 "metadata": {
  "kernelspec": {
   "display_name": "Python 3",
   "language": "python",
   "name": "python3"
  },
  "language_info": {
   "codemirror_mode": {
    "name": "ipython",
    "version": 3
   },
   "file_extension": ".py",
   "mimetype": "text/x-python",
   "name": "python",
   "nbconvert_exporter": "python",
   "pygments_lexer": "ipython3",
   "version": "3.12.5"
  }
 },
 "nbformat": 4,
 "nbformat_minor": 2
}
